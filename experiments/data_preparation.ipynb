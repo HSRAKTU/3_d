{
  "cells": [
    {
      "cell_type": "markdown",
      "metadata": {},
      "source": [
        "# Data Preparation for PointFlow2D\n",
        "\n",
        "This notebook analyzes and prepares a subset of car slices for PointFlow2D training.\n",
        "\n",
        "## Objectives:\n",
        "1. Load and analyze slice data from `outputs/slices/*.npy`\n",
        "2. Select representative subset of cars\n",
        "3. Store processed data in `generative_3d_research/data/`\n",
        "4. Visualize slice characteristics and statistics\n"
      ]
    },
    {
      "cell_type": "code",
      "execution_count": 1,
      "metadata": {},
      "outputs": [
        {
          "name": "stdout",
          "output_type": "stream",
          "text": [
            "✅ Setup complete!\n",
            "📁 Source directory: ../../outputs/slices\n",
            "📁 Target directory: ../data/selected_slices\n"
          ]
        }
      ],
      "source": [
        "# === Cell 1: Setup and Imports ===\n",
        "import numpy as np\n",
        "import matplotlib.pyplot as plt\n",
        "import os\n",
        "import glob\n",
        "import shutil\n",
        "from pathlib import Path\n",
        "import logging\n",
        "from typing import List, Dict, Tuple\n",
        "\n",
        "# Setup logging\n",
        "logging.basicConfig(level=logging.INFO, format='%(asctime)s - %(levelname)s - %(message)s')\n",
        "logger = logging.getLogger(__name__)\n",
        "\n",
        "# Set random seed for reproducibility\n",
        "np.random.seed(42)\n",
        "\n",
        "# Paths\n",
        "SLICE_SOURCE_DIR = \"../../outputs/slices\"  # Original slice data\n",
        "DATA_TARGET_DIR = \"../data/selected_slices\"  # Our working directory\n",
        "\n",
        "print(\"✅ Setup complete!\")\n",
        "print(f\"📁 Source directory: {SLICE_SOURCE_DIR}\")\n",
        "print(f\"📁 Target directory: {DATA_TARGET_DIR}\")\n"
      ]
    }
  ],
  "metadata": {
    "kernelspec": {
      "display_name": ".slice-cfd-proto",
      "language": "python",
      "name": "python3"
    },
    "language_info": {
      "codemirror_mode": {
        "name": "ipython",
        "version": 3
      },
      "file_extension": ".py",
      "mimetype": "text/x-python",
      "name": "python",
      "nbconvert_exporter": "python",
      "pygments_lexer": "ipython3",
      "version": "3.12.2"
    }
  },
  "nbformat": 4,
  "nbformat_minor": 2
}
