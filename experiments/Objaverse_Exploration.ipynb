{
 "cells": [
  {
   "cell_type": "code",
   "execution_count": 2,
   "id": "8003c5bd",
   "metadata": {},
   "outputs": [
    {
     "data": {
      "text/plain": [
       "'0.1.7'"
      ]
     },
     "execution_count": 2,
     "metadata": {},
     "output_type": "execute_result"
    }
   ],
   "source": [
    "import objaverse\n",
    "\n",
    "objaverse.__version__"
   ]
  },
  {
   "cell_type": "code",
   "execution_count": 3,
   "id": "070fb0c3",
   "metadata": {},
   "outputs": [
    {
     "name": "stdout",
     "output_type": "stream",
     "text": [
      "Found 798759 total objects.\n"
     ]
    }
   ],
   "source": [
    "uids = objaverse.load_uids()\n",
    "print(f\"Found {len(uids)} total objects.\")"
   ]
  },
  {
   "cell_type": "markdown",
   "id": "420c427e",
   "metadata": {},
   "source": [
    "Load Annotations"
   ]
  },
  {
   "cell_type": "code",
   "execution_count": 4,
   "id": "91c6a9b0",
   "metadata": {},
   "outputs": [
    {
     "name": "stderr",
     "output_type": "stream",
     "text": [
      "100%|██████████| 160/160 [00:33<00:00,  4.84it/s]\n"
     ]
    },
    {
     "name": "stdout",
     "output_type": "stream",
     "text": [
      "Found 704846 objects with CC-BY license.\n",
      "Found 0 chairs.\n"
     ]
    }
   ],
   "source": [
    "import random\n",
    "\n",
    "# This downloads the metadata for all objects (can take a minute the first time)\n",
    "annotations = objaverse.load_annotations()\n",
    "\n",
    "# Get a list of UIDs for objects with a permissive CC-BY license\n",
    "cc_by_uids = [uid for uid, annotation in annotations.items() if annotation[\"license\"] == \"by\"]\n",
    "print(f\"Found {len(cc_by_uids)} objects with CC-BY license.\")\n",
    "\n",
    "# Let's say you also want to find all the chairs\n",
    "chair_uids = [uid for uid, annotation in annotations.items() if \"chair\" in annotation.get(\"tags\", [])]\n",
    "print(f\"Found {len(chair_uids)} chairs.\")"
   ]
  },
  {
   "cell_type": "markdown",
   "id": "bf0cd574",
   "metadata": {},
   "source": [
    "### Cell — Inspect annotation structure and find \"chair\" via tags + LVIS (toggleable)"
   ]
  },
  {
   "cell_type": "code",
   "execution_count": 5,
   "id": "d3d656a6",
   "metadata": {},
   "outputs": [
    {
     "name": "stdout",
     "output_type": "stream",
     "text": [
      "Sample UID: 94db219c315742909fee67deeeacae15\n",
      "Top-level keys: ['uri', 'uid', 'name', 'staffpickedAt', 'viewCount', 'likeCount', 'animationCount', 'viewerUrl', 'embedUrl', 'commentCount', 'isDownloadable', 'publishedAt', 'tags', 'categories', 'thumbnails', 'user', 'description', 'faceCount', 'createdAt', 'vertexCount']\n",
      "Example tags entry (first 3): [{'name': 'game-ready', 'slug': 'game-ready', 'uri': 'https://api.sketchfab.com/v3/tags/game-ready'}, {'name': 'damascus', 'slug': 'damascus', 'uri': 'https://api.sketchfab.com/v3/tags/damascus'}, {'name': 'damascus_steel', 'slug': 'damascus_steel', 'uri': 'https://api.sketchfab.com/v3/tags/damascus_steel'}]\n",
      "Tag-based 'chair' matches: 3399\n",
      "LVIS-based 'chair' matches: 573\n",
      "Within CC-BY — tag: 3185 | LVIS: 548\n",
      "Total unique chair candidates (tag ∪ LVIS): 3854\n"
     ]
    }
   ],
   "source": [
    "# Cell — Inspect annotation structure and find \"chair\" via tags + LVIS (toggleable)\n",
    "\n",
    "DO_TAGS = True   # use tag-based filtering (Sketchfab tags)\n",
    "DO_LVIS = True   # use LVIS category lists\n",
    "\n",
    "# 1) Peek at structure so we don't assume wrong keys/types\n",
    "any_uid = next(iter(annotations))\n",
    "print(\"Sample UID:\", any_uid)\n",
    "print(\"Top-level keys:\", list(annotations[any_uid].keys())[:20])\n",
    "print(\"Example tags entry (first 3):\", annotations[any_uid].get(\"tags\", [])[:3])\n",
    "\n",
    "# 2) Helper: safely extract lowercase tag strings from mixed formats\n",
    "def tag_strings(a):\n",
    "    out = []\n",
    "    for t in a.get(\"tags\", []):\n",
    "        if isinstance(t, dict):\n",
    "            for k in (\"name\", \"slug\"):\n",
    "                v = t.get(k)\n",
    "                if isinstance(v, str):\n",
    "                    out.append(v.lower())\n",
    "        elif isinstance(t, str):\n",
    "            out.append(t.lower())\n",
    "    return set(out)\n",
    "\n",
    "# 3) Tag-based \"chair\" (matches 'chair', 'armchair', etc.)\n",
    "tag_chair_uids = []\n",
    "if DO_TAGS:\n",
    "    for uid, a in annotations.items():\n",
    "        tags = tag_strings(a)\n",
    "        if any(\"chair\" in s for s in tags):\n",
    "            tag_chair_uids.append(uid)\n",
    "print(f\"Tag-based 'chair' matches: {len(tag_chair_uids)}\")\n",
    "\n",
    "# 4) LVIS-based \"chair\" (category lists provided by Objaverse)\n",
    "lvis_chair_uids = []\n",
    "if DO_LVIS:\n",
    "    lvis = objaverse.load_lvis_annotations()\n",
    "    lvis_lower = {k.lower(): v for k, v in lvis.items()}  # normalize keys\n",
    "    wanted = {\"chair\", \"armchair\", \"rocking_chair\"}       # expand as needed\n",
    "    for k in wanted:\n",
    "        lvis_chair_uids.extend(lvis_lower.get(k, []))\n",
    "    lvis_chair_uids = list(set(lvis_chair_uids))\n",
    "    print(f\"LVIS-based 'chair' matches: {len(lvis_chair_uids)}\")\n",
    "\n",
    "# 5) Intersect with CC-BY if you computed cc_by_uids earlier\n",
    "try:\n",
    "    cc_by_set = set(cc_by_uids)\n",
    "    print(\"Within CC-BY — tag:\", len(cc_by_set.intersection(tag_chair_uids)),\n",
    "          \"| LVIS:\", len(cc_by_set.intersection(lvis_chair_uids)))\n",
    "except NameError:\n",
    "    pass\n",
    "\n",
    "# 6) Final candidate list (union)\n",
    "CHAIR_UIDS = list(set(tag_chair_uids) | set(lvis_chair_uids))\n",
    "print(f\"Total unique chair candidates (tag ∪ LVIS): {len(CHAIR_UIDS)}\")\n"
   ]
  },
  {
   "cell_type": "code",
   "execution_count": 6,
   "id": "7e883744",
   "metadata": {},
   "outputs": [
    {
     "name": "stdout",
     "output_type": "stream",
     "text": [
      "[Step 1] Selected UID: 07d76d7ce3d14a589eb892beacbec68f\n"
     ]
    }
   ],
   "source": [
    "from pathlib import Path\n",
    "\n",
    "uid_to_download = CHAIR_UIDS[0]\n",
    "print(f\"[Step 1] Selected UID: {uid_to_download}\")\n"
   ]
  },
  {
   "cell_type": "code",
   "execution_count": 7,
   "id": "8322067b",
   "metadata": {},
   "outputs": [
    {
     "name": "stdout",
     "output_type": "stream",
     "text": [
      "[Step 2] Starting download...\n",
      "Downloaded 1 / 1 objects\n",
      "[Step 2] Download complete in 2.32 seconds.\n",
      "[Step 2] Downloaded files: /Users/utkarshsingh/.objaverse/hf-objaverse-v1/glbs/000-118/07d76d7ce3d14a589eb892beacbec68f.glb\n"
     ]
    }
   ],
   "source": [
    "import time\n",
    "\n",
    "print(\"[Step 2] Starting download...\")\n",
    "start = time.time()\n",
    "\n",
    "assets = objaverse.load_objects(\n",
    "    uids=[uid_to_download],\n",
    "    download_processes=1\n",
    ")\n",
    "\n",
    "print(f\"[Step 2] Download complete in {time.time()-start:.2f} seconds.\")\n",
    "print(\"[Step 2] Downloaded files:\", assets[uid_to_download])\n"
   ]
  },
  {
   "cell_type": "code",
   "execution_count": 8,
   "id": "0d066080",
   "metadata": {},
   "outputs": [
    {
     "name": "stdout",
     "output_type": "stream",
     "text": [
      "[Step 3] Searching for mesh file...\n",
      "[Step 3] Mesh file found: /Users/utkarshsingh/.objaverse/hf-objaverse-v1/glbs/000-118/07d76d7ce3d14a589eb892beacbec68f.glb\n"
     ]
    }
   ],
   "source": [
    "print(\"[Step 3] Searching for mesh file...\")\n",
    "\n",
    "mesh_path = None\n",
    "candidate_path = assets[uid_to_download]\n",
    "if isinstance(candidate_path, (str, Path)):\n",
    "    if str(candidate_path).lower().endswith((\".obj\", \".stl\", \".ply\", \".glb\", \".gltf\", \".off\", \".fbx\")):\n",
    "        mesh_path = Path(candidate_path)\n",
    "\n",
    "if mesh_path:\n",
    "    print(f\"[Step 3] Mesh file found: {mesh_path}\")\n",
    "else:\n",
    "    print(\"[Step 3] No mesh file found for this UID.\")\n"
   ]
  },
  {
   "cell_type": "markdown",
   "id": "6d19a45b",
   "metadata": {},
   "source": [
    "Render Mesh"
   ]
  },
  {
   "cell_type": "code",
   "execution_count": 9,
   "id": "d7dc5c2c",
   "metadata": {},
   "outputs": [
    {
     "name": "stdout",
     "output_type": "stream",
     "text": [
      "[Step 4] Loading mesh...\n",
      "[Step 4] Mesh loaded.\n"
     ]
    }
   ],
   "source": [
    "import trimesh\n",
    "\n",
    "print(\"[Step 4] Loading mesh...\")\n",
    "mesh = trimesh.load_mesh(mesh_path)\n",
    "print(\"[Step 4] Mesh loaded.\")\n",
    "\n",
    "# Try interactive view\n",
    "try:\n",
    "    mesh.show()\n",
    "except Exception as e:\n",
    "    print(\"[Step 4] Interactive view not supported:\", e)\n"
   ]
  },
  {
   "cell_type": "code",
   "execution_count": 9,
   "id": "1a090737",
   "metadata": {},
   "outputs": [
    {
     "name": "stdout",
     "output_type": "stream",
     "text": [
      "[Step 5] Loading with Open3D...\n",
      "[Step 5] Rendering with Open3D...\n"
     ]
    }
   ],
   "source": [
    "import open3d as o3d\n",
    "\n",
    "print(\"[Step 5] Loading with Open3D...\")\n",
    "o3d_mesh = o3d.io.read_triangle_mesh(str(mesh_path))\n",
    "o3d_mesh.compute_vertex_normals()\n",
    "\n",
    "print(\"[Step 5] Rendering with Open3D...\")\n",
    "o3d.visualization.draw_geometries([o3d_mesh])\n"
   ]
  },
  {
   "cell_type": "markdown",
   "id": "f3cd6e93",
   "metadata": {},
   "source": [
    "### Converting Mesh to PointCloud"
   ]
  },
  {
   "cell_type": "code",
   "execution_count": 11,
   "id": "d89968ec",
   "metadata": {},
   "outputs": [
    {
     "name": "stdout",
     "output_type": "stream",
     "text": [
      "[Step 6] Sampling 200000 points from mesh...\n",
      "[Step 6] Point cloud has 200000 points.\n"
     ]
    }
   ],
   "source": [
    "def mesh_to_pointcloud(mesh_path, num_points=100_000):\n",
    "    \"\"\"\n",
    "    Load mesh from mesh_path and sample a point cloud of num_points points.\n",
    "    \"\"\"\n",
    "    mesh_o3d = o3d.io.read_triangle_mesh(str(mesh_path))\n",
    "    mesh_o3d.compute_vertex_normals()\n",
    "    \n",
    "    # Sample points uniformly from surface\n",
    "    pcd = mesh_o3d.sample_points_uniformly(number_of_points=num_points)\n",
    "    return pcd\n",
    "\n",
    "# Example usage\n",
    "NUM_POINTS = 200_000  # Toggle this: 50_000, 100_000, etc.\n",
    "print(f\"[Step 6] Sampling {NUM_POINTS} points from mesh...\")\n",
    "pcd = mesh_to_pointcloud(mesh_path, num_points=NUM_POINTS)\n",
    "print(f\"[Step 6] Point cloud has {len(pcd.points)} points.\")\n"
   ]
  },
  {
   "cell_type": "code",
   "execution_count": 12,
   "id": "0f9f6cd3",
   "metadata": {},
   "outputs": [
    {
     "name": "stdout",
     "output_type": "stream",
     "text": [
      "[Step 7] Rendering point cloud...\n"
     ]
    }
   ],
   "source": [
    "print(\"[Step 7] Rendering point cloud...\")\n",
    "\n",
    "# Optional: Set a uniform color for all points\n",
    "pcd.paint_uniform_color([0.1, 0.6, 0.9])  # light blue\n",
    "\n",
    "o3d.visualization.draw_geometries([pcd])\n"
   ]
  },
  {
   "cell_type": "markdown",
   "id": "74bab75b",
   "metadata": {},
   "source": [
    "### Converting PointCloud to Mesh"
   ]
  },
  {
   "cell_type": "code",
   "execution_count": 14,
   "id": "b6f4bb97",
   "metadata": {},
   "outputs": [
    {
     "name": "stdout",
     "output_type": "stream",
     "text": [
      "[Reconstruct] Starting Poisson surface reconstruction...\n",
      "[Reconstruct] Estimating / orienting normals...\n",
      "[Reconstruct] Running Poisson...\n",
      "[Reconstruct] Cropping to AABB...\n",
      "[Reconstruct] Removing low-density artifacts...\n",
      "[Reconstruct] Simplifying mesh to ~150000 triangles...\n",
      "[Reconstruct] Done in 18.90s | V:84014 F:149999\n"
     ]
    }
   ],
   "source": [
    "import numpy as np\n",
    "import open3d as o3d\n",
    "import time\n",
    "\n",
    "print(\"[Reconstruct] Starting Poisson surface reconstruction...\")\n",
    "\n",
    "t0 = time.time()\n",
    "\n",
    "# 1) Ensure normals (required by Poisson)\n",
    "print(\"[Reconstruct] Estimating / orienting normals...\")\n",
    "pcd_est = pcd.voxel_down_sample(voxel_size=0.002) if len(pcd.points) > 300_000 else pcd\n",
    "pcd_est.estimate_normals(search_param=o3d.geometry.KDTreeSearchParamKNN(knn=30))\n",
    "pcd_est.orient_normals_consistent_tangent_plane(k=50)\n",
    "\n",
    "# 2) Poisson reconstruction\n",
    "# depth controls detail; 9–11 is a good start; increase for more detail (slower)\n",
    "print(\"[Reconstruct] Running Poisson...\")\n",
    "mesh_raw, densities = o3d.geometry.TriangleMesh.create_from_point_cloud_poisson(\n",
    "    pcd_est, depth=10, linear_fit=True\n",
    ")\n",
    "densities = np.asarray(densities)\n",
    "\n",
    "# 3) Crop to the point cloud's bbox (Poisson can create a \"balloon\" around data)\n",
    "print(\"[Reconstruct] Cropping to AABB...\")\n",
    "bbox = pcd.get_axis_aligned_bounding_box()\n",
    "bbox = bbox.scale(1.02, bbox.get_center())  # small pad\n",
    "mesh_cropped = mesh_raw.crop(bbox)\n",
    "\n",
    "# 4) Remove very low-density verts (likely artifacts)\n",
    "print(\"[Reconstruct] Removing low-density artifacts...\")\n",
    "densities_cropped = densities[np.asarray(mesh_raw.vertices)[:,0].shape[0] - np.asarray(mesh_cropped.vertices)[:,0].shape[0]:] if len(mesh_cropped.vertices) != len(mesh_raw.vertices) else densities\n",
    "# If cropping changed vertex order unpredictably, recompute densities by kNN as fallback:\n",
    "try:\n",
    "    d = densities_cropped\n",
    "except Exception:\n",
    "    # fallback density via distance to nearest point\n",
    "    p_pts = np.asarray(pcd.points)\n",
    "    m_pts = np.asarray(mesh_cropped.vertices)\n",
    "    import scipy.spatial as sps\n",
    "    kdt = sps.cKDTree(p_pts)\n",
    "    dists, _ = kdt.query(m_pts, k=8)\n",
    "    d = 1.0 / (dists.mean(axis=1) + 1e-6)\n",
    "\n",
    "thresh = np.quantile(d, 0.02)  # drop bottom 2%\n",
    "mask = d < thresh\n",
    "mesh_cropped.remove_vertices_by_mask(mask)\n",
    "\n",
    "# 5) (Optional) Simplify to a manageable size\n",
    "target_tris = min(150_000, len(mesh_cropped.triangles))\n",
    "if target_tris > 0:\n",
    "    print(f\"[Reconstruct] Simplifying mesh to ~{target_tris} triangles...\")\n",
    "    mesh_simplified = mesh_cropped.simplify_quadric_decimation(target_number_of_triangles=target_tris)\n",
    "else:\n",
    "    mesh_simplified = mesh_cropped\n",
    "\n",
    "# 6) Final cleanups\n",
    "mesh_simplified.remove_unreferenced_vertices()\n",
    "mesh_simplified.remove_degenerate_triangles()\n",
    "mesh_simplified.remove_duplicated_vertices()\n",
    "mesh_simplified.remove_duplicated_triangles()\n",
    "\n",
    "print(f\"[Reconstruct] Done in {time.time()-t0:.2f}s | V:{len(mesh_simplified.vertices)} F:{len(mesh_simplified.triangles)}\")\n",
    "\n",
    "# Keep result for next cell\n",
    "mesh_recon = mesh_simplified\n"
   ]
  },
  {
   "cell_type": "code",
   "execution_count": 15,
   "id": "f8f63cf3",
   "metadata": {},
   "outputs": [
    {
     "name": "stdout",
     "output_type": "stream",
     "text": [
      "[Render] Showing reconstructed mesh...\n"
     ]
    }
   ],
   "source": [
    "print(\"[Render] Showing reconstructed mesh...\")\n",
    "o3d.visualization.draw_geometries([mesh_recon])\n"
   ]
  }
 ],
 "metadata": {
  "kernelspec": {
   "display_name": ".slice-cfd-proto",
   "language": "python",
   "name": "python3"
  },
  "language_info": {
   "codemirror_mode": {
    "name": "ipython",
    "version": 3
   },
   "file_extension": ".py",
   "mimetype": "text/x-python",
   "name": "python",
   "nbconvert_exporter": "python",
   "pygments_lexer": "ipython3",
   "version": "3.12.2"
  }
 },
 "nbformat": 4,
 "nbformat_minor": 5
}
